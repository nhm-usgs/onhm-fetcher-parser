{
 "cells": [
  {
   "cell_type": "code",
   "execution_count": 1,
   "metadata": {},
   "outputs": [
    {
     "name": "stdout",
     "output_type": "stream",
     "text": [
      "Populating the interactive namespace from numpy and matplotlib\n"
     ]
    }
   ],
   "source": [
    "%matplotlib inline\n",
    "%pylab inline\n",
    "pylab.rcParams['figure.figsize'] = (10.0, 8.0)\n",
    "\n",
    "import geopandas as gpd\n",
    "import pandas as pd\n",
    "import glob\n",
    "import zipfile\n",
    "import rasterio\n",
    "import os\n",
    "import xarray as xr\n",
    "import json"
   ]
  },
  {
   "cell_type": "code",
   "execution_count": 2,
   "metadata": {},
   "outputs": [
    {
     "name": "stdout",
     "output_type": "stream",
     "text": [
      "B:\\GitRepos\\onhm-fetcher-parser\\notebooks\n",
      "..\\Data\n",
      "       POI_ID  hru_id_nat  hru_id_reg region  \\\n",
      "0     7733855           1           1     01   \n",
      "1     7733919           2           2     01   \n",
      "2     7732571           3           3     01   \n",
      "3     7732387           4           4     01   \n",
      "4     7733327           5           5     01   \n",
      "...       ...         ...         ...    ...   \n",
      "2457   719280        2458        2458     01   \n",
      "2458   805345        2459        2459     01   \n",
      "2459   806793        2460        2460     01   \n",
      "2460   807073        2461        2461     01   \n",
      "2461   725382        2462        2462     01   \n",
      "\n",
      "                                               geometry  \n",
      "0     POLYGON ((-73.37148 41.11233, -73.37151 41.112...  \n",
      "1     POLYGON ((-73.38532 41.13467, -73.38566 41.134...  \n",
      "2     POLYGON ((-73.41947 41.16068, -73.41955 41.160...  \n",
      "3     POLYGON ((-73.41097 41.15833, -73.41105 41.158...  \n",
      "4     MULTIPOLYGON (((-73.28636 41.12781, -73.28645 ...  \n",
      "...                                                 ...  \n",
      "2457  POLYGON ((-69.06651 46.62038, -69.06662 46.620...  \n",
      "2458  MULTIPOLYGON (((-68.81500 46.67176, -68.81493 ...  \n",
      "2459  MULTIPOLYGON (((-69.09013 46.50983, -69.09024 ...  \n",
      "2460  POLYGON ((-68.97849 46.47029, -68.97886 46.470...  \n",
      "2461  POLYGON ((-68.69319 46.93276, -68.69314 46.932...  \n",
      "\n",
      "[2462 rows x 5 columns]\n"
     ]
    }
   ],
   "source": [
    "print(os.getcwd())\n",
    "from pathlib import Path\n",
    "folder = Path(r'../Data') # assumes working directory is onhm-fetcher-parser\n",
    "print(folder)\n",
    "shapefiles = folder.glob(\"*_0[1].shp\")\n",
    "#shapefiles = folder.glob(\"*.shp\")\n",
    "gdf = pd.concat([\n",
    "    gpd.read_file(shp)\n",
    "    for shp in shapefiles\n",
    "]).pipe(gpd.GeoDataFrame)\n",
    "gdf.reset_index(drop=True, inplace=True)\n",
    "# gdf.plot()\n",
    "print(gdf)"
   ]
  },
  {
   "cell_type": "code",
   "execution_count": 73,
   "metadata": {},
   "outputs": [
    {
     "name": "stdout",
     "output_type": "stream",
     "text": [
      "   grid_ids  hru_id_nat         w\n",
      "0    278433           1  0.000120\n",
      "1    277046           1  0.031155\n",
      "2    277047           1  0.901587\n",
      "3    277048           1  0.046570\n",
      "4    275661           1  0.020568\n",
      "hru_id_nat\n"
     ]
    }
   ],
   "source": [
    "wght_UofI = pd.read_csv('weights.csv')\n",
    "print(wght_UofI.head())\n",
    "wghts_id = wght_UofI.columns[1]\n",
    "print(wghts_id)"
   ]
  },
  {
   "cell_type": "code",
   "execution_count": 83,
   "metadata": {},
   "outputs": [
    {
     "name": "stdout",
     "output_type": "stream",
     "text": [
      "1 [278433 277046 277047 277048 275661] [1 1 1 1 1] [1.20332377e-04 3.11551394e-02 9.01586747e-01 4.65699876e-02\n",
      " 2.05676159e-02]\n",
      "0.9999998227064826\n"
     ]
    },
    {
     "data": {
      "text/plain": [
       "(array([0, 1, 2, 3, 4], dtype=int64),)"
      ]
     },
     "execution_count": 83,
     "metadata": {},
     "output_type": "execute_result"
    }
   ],
   "source": [
    "import numpy.ma as ma\n",
    "import numpy as np\n",
    "\n",
    "index = gdf.hru_id_nat.values\n",
    "gid = wght_UofI.grid_ids.values\n",
    "hid = wght_UofI.hru_id_nat.values\n",
    "w = wght_UofI.w.values\n",
    "\n",
    "def getweights(hruind, mgid, mhid, mw):\n",
    "    tmask = np.where(mhid == hruind)\n",
    "    return tmask, mgid[tmask], mw[tmask]\n",
    "    \n",
    "tmask, tgid,tw = getweights(index[0], gid, hid, w)\n",
    "print(index[0], tgid, thid, tw)\n",
    "print(tw.sum())\n",
    "tmask"
   ]
  },
  {
   "cell_type": "code",
   "execution_count": 81,
   "metadata": {},
   "outputs": [
    {
     "name": "stdout",
     "output_type": "stream",
     "text": [
      "0 [278433 277046 277047 277048 275661] [1.20332377e-04 3.11551394e-02 9.01586747e-01 4.65699876e-02\n",
      " 2.05676159e-02] 0.9999998227064826\n",
      "1 [277046 277047 275660 275661] [0.13172276 0.17021142 0.27964766 0.41841768] 0.9999995228417933\n",
      "2 [275660] [1.] 1.0\n",
      "3 [275660 275661] [0.82125035 0.17874879] 0.9999991394065904\n",
      "4 [277049 277050 275663] [2.88188403e-01 7.11235395e-01 5.75810834e-04] 0.9999996090536466\n",
      "5 [275663] [1.] 1.0\n",
      "6 [275660 274274] [0.93762659 0.06237332] 0.9999999102804411\n",
      "7 [278432 278433 277046 277047 277045 275658 275659 274273 274272] [0.02521717 0.04948689 0.09536192 0.22955413 0.00280794 0.25261284\n",
      " 0.32046514 0.02088624 0.00360742] 0.999999693481975\n",
      "8 [277049 277050 275664 275663] [0.15569906 0.40014603 0.00602082 0.43813344] 0.9999993467119019\n",
      "9 [275664 275663] [0.89677002 0.10322969] 0.9999997151658577\n",
      "10 [277051 277050 275665 275664] [0.21947723 0.57669696 0.00457921 0.19924623] 0.999999625768125\n"
     ]
    }
   ],
   "source": [
    "for tind, val in np.ndenumerate(index):\n",
    "    if tind[0] < 11:\n",
    "        tmask, tgid, tw = getweights(val, gid, hid, w)\n",
    "        print(tind[0], tmask, tgid, tw, tw.sum())"
   ]
  },
  {
   "cell_type": "code",
   "execution_count": null,
   "metadata": {},
   "outputs": [],
   "source": []
  }
 ],
 "metadata": {
  "kernelspec": {
   "display_name": "Python 3",
   "language": "python",
   "name": "python3"
  },
  "language_info": {
   "codemirror_mode": {
    "name": "ipython",
    "version": 3
   },
   "file_extension": ".py",
   "mimetype": "text/x-python",
   "name": "python",
   "nbconvert_exporter": "python",
   "pygments_lexer": "ipython3",
   "version": "3.7.6"
  }
 },
 "nbformat": 4,
 "nbformat_minor": 4
}
