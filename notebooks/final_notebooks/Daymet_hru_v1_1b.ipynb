{
 "cells": [
  {
   "cell_type": "markdown",
   "metadata": {},
   "source": [
    "# Daymet mapping to NHM hrus\n",
    "This notebook demonstrates the Daymet mapping/interpolating to NHM HRUs"
   ]
  },
  {
   "cell_type": "code",
   "execution_count": 1,
   "metadata": {},
   "outputs": [
    {
     "name": "stdout",
     "output_type": "stream",
     "text": [
      "Populating the interactive namespace from numpy and matplotlib\n"
     ]
    }
   ],
   "source": [
    "%matplotlib inline\n",
    "%pylab inline\n",
    "pylab.rcParams['figure.figsize'] = (10.0, 8.0)\n",
    "\n",
    "import geopandas as gpd\n",
    "import pandas as pd\n",
    "import glob\n",
    "import zipfile\n",
    "import rasterio\n",
    "import os\n",
    "import xarray as xr\n",
    "import json"
   ]
  },
  {
   "cell_type": "markdown",
   "metadata": {},
   "source": [
    "# Open Daymet max temperature with geopandas and plot"
   ]
  },
  {
   "cell_type": "code",
   "execution_count": null,
   "metadata": {},
   "outputs": [],
   "source": [
    "print(os.getcwd())\n",
    "from pathlib import Path\n",
    "folder = Path(r'../../Data_v1_1') # assumes working directory is onhm-fetcher-parser\n",
    "print(folder)\n",
    "# shapefiles = folder.glob(\"*_0[1-2].shp\")\n",
    "# glob below is not necessary in this case as there is only one shapefile.  Will keep\n",
    "# code this way as in the case of HRUs split into multiple shapefiles this is how to concatenate\n",
    "# into one geodataframe\n",
    "\n",
    "shapefiles = folder.glob(\"*2e*.shp\")\n",
    "gdf = pd.concat([\n",
    "    gpd.read_file(shp)\n",
    "    for shp in shapefiles\n",
    "]).pipe(gpd.GeoDataFrame)\n",
    "gdf.reset_index(drop=True, inplace=True)\n",
    "# gdf.plot()\n",
    "#print(gdf)"
   ]
  },
  {
   "cell_type": "code",
   "execution_count": null,
   "metadata": {},
   "outputs": [],
   "source": [
    "gdf.plot()"
   ]
  },
  {
   "cell_type": "markdown",
   "metadata": {},
   "source": [
    "# Open Daymet data (as netcdf file) \n",
    "https://daymet.ornl.gov/web_services"
   ]
  },
  {
   "cell_type": "code",
   "execution_count": null,
   "metadata": {},
   "outputs": [],
   "source": []
  },
  {
   "cell_type": "code",
   "execution_count": 3,
   "metadata": {},
   "outputs": [
    {
     "name": "stdout",
     "output_type": "stream",
     "text": [
      "var=lat&var=lon&var=prcp&var=srad&var=swe&var=tmax&var=tmin&var=vp&north=54&west=-126&east=-65&south=20&disableProjSubset=on&horizStride=1&time_start=2018-12-31T12%3A00%3A00Z&time_end=2018-12-31T12%3A00%3A00Z&timeStride=1&accept=netcdf\n",
      "Daymet data retrieved!\n",
      "<xarray.Dataset>\n",
      "Dimensions:                  (time: 1, x: 6008, y: 3699)\n",
      "Coordinates:\n",
      "  * y                        (y) float32 1687.0 1686.0 ... -2010.0 -2011.0\n",
      "  * x                        (x) float32 -2754.25 -2753.25 ... 3251.75 3252.75\n",
      "  * time                     (time) datetime64[ns] 2018-12-31\n",
      "Data variables:\n",
      "    lat                      (y, x) float32 ...\n",
      "    lambert_conformal_conic  int16 ...\n",
      "    lon                      (y, x) float32 ...\n",
      "    prcp                     (time, y, x) float32 ...\n",
      "    srad                     (time, y, x) float32 ...\n",
      "    swe                      (time, y, x) float32 ...\n",
      "    tmax                     (time, y, x) float32 ...\n",
      "    tmin                     (time, y, x) float32 ...\n",
      "    vp                       (time, y, x) float32 ...\n",
      "Attributes:\n",
      "    _NCProperties:       version=1|netcdflibversion=4.4.1|hdf5libversion=1.8.17\n",
      "    start_year:          1980\n",
      "    source:              Daymet Software Version 3.0\n",
      "    Version_software:    Daymet Software Version 3.0\n",
      "    Version_data:        Daymet Data Version 3.0\n",
      "    Conventions:         CF-1.6\n",
      "    citation:            Please see http://daymet.ornl.gov/ for current Dayme...\n",
      "    references:          Please see http://daymet.ornl.gov/ for current infor...\n",
      "    title:               Daymet: Daily Surface Weather Data on a 1-km Grid fo...\n",
      "    institution:         Oak Ridge National Laboratory Distributed Active Arc...\n",
      "    end_year:            2018\n",
      "    History:             Translated to CF-1.0 Conventions by Netcdf-Java CDM ...\n",
      "    geospatial_lat_min:  18.552629168112905\n",
      "    geospatial_lat_max:  58.1720239604238\n",
      "    geospatial_lon_min:  -143.08286944629194\n",
      "    geospatial_lon_max:  -50.72062839852924\n",
      "\n",
      " The meta data is: \n",
      " {'_NCProperties': 'version=1|netcdflibversion=4.4.1|hdf5libversion=1.8.17', 'start_year': 1980, 'source': 'Daymet Software Version 3.0', 'Version_software': 'Daymet Software Version 3.0', 'Version_data': 'Daymet Data Version 3.0', 'Conventions': 'CF-1.6', 'citation': 'Please see http://daymet.ornl.gov/ for current Daymet data citation information', 'references': 'Please see http://daymet.ornl.gov/ for current information on Daymet references', 'title': 'Daymet: Daily Surface Weather Data on a 1-km Grid for North America, Version 3 (Continental North America)', 'institution': 'Oak Ridge National Laboratory Distributed Active Archive Center (ORNL DAAC)', 'end_year': 2018, 'History': 'Translated to CF-1.0 Conventions by Netcdf-Java CDM (CFGridWriter2)\\nOriginal Dataset = file:/daymet/V3/CFMosaicAgg/na.ncml; Translation Date = 2020-03-03T22:00:54.478Z', 'geospatial_lat_min': 18.552629168112905, 'geospatial_lat_max': 58.1720239604238, 'geospatial_lon_min': -143.08286944629194, 'geospatial_lon_max': -50.72062839852924}\n",
      "\n",
      " The crs meta data is \n",
      " {'grid_mapping_name': 'lambert_conformal_conic', 'longitude_of_central_meridian': -100.0, 'latitude_of_projection_origin': 42.5, 'false_easting': 0.0, 'false_northing': 0.0, 'standard_parallel': array([25., 60.]), 'semi_major_axis': 6378137.0, 'inverse_flattening': 298.257223563, 'longitude_of_prime_meridian': 0.0, '_CoordinateTransformType': 'Projection', '_CoordinateAxisTypes': 'GeoX GeoY'}\n",
      "<xarray.DataArray 'tmax' (time: 1, y: 3699, x: 6008)>\n",
      "[22223592 values with dtype=float32]\n",
      "Coordinates:\n",
      "  * y        (y) float32 1687.0 1686.0 1685.0 1684.0 ... -2009.0 -2010.0 -2011.0\n",
      "  * x        (x) float32 -2754.25 -2753.25 -2752.25 ... 3250.75 3251.75 3252.75\n",
      "  * time     (time) datetime64[ns] 2018-12-31\n",
      "Attributes:\n",
      "    long_name:     daily maximum temperature\n",
      "    units:         degrees C\n",
      "    grid_mapping:  lambert_conformal_conic\n",
      "    cell_methods:  area: mean time: maximum\n",
      "    _ChunkSizes:   [   1 1000 1000]\n",
      "\n",
      " Data attributes, sizes, and coords \n",
      "\n",
      "\n",
      " Data attributes are: \n",
      " {'long_name': 'daily maximum temperature', 'units': 'degrees C', 'grid_mapping': 'lambert_conformal_conic', 'cell_methods': 'area: mean time: maximum', '_ChunkSizes': array([   1, 1000, 1000], dtype=int32)}\n",
      "\n",
      " Data sizes are: \n",
      " Frozen({'time': 1, 'y': 3699, 'x': 6008})\n",
      "\n",
      " Data coords are: \n",
      " Coordinates:\n",
      "  * y        (y) float32 1687.0 1686.0 1685.0 1684.0 ... -2009.0 -2010.0 -2011.0\n",
      "  * x        (x) float32 -2754.25 -2753.25 -2752.25 ... 3250.75 3251.75 3252.75\n",
      "  * time     (time) datetime64[ns] 2018-12-31\n",
      "\n",
      " Lat coords are: \n",
      " {'units': 'degrees_north', 'long_name': 'latitude coordinate', 'standard_name': 'latitude', '_ChunkSizes': array([1010,  977], dtype=int32), '_CoordinateAxisType': 'Lat', 'grid_mapping': 'lambert_conformal_conic'}\n",
      "<class 'xarray.core.utils.Frozen'>\n",
      "1\n",
      "1 6008 3699\n"
     ]
    }
   ],
   "source": [
    "import requests\n",
    "from requests.exceptions import HTTPError\n",
    "from datetime import datetime, timedelta\n",
    "from urllib.parse import urlencode\n",
    "from pathlib import Path\n",
    "testfile = Path('tmax_test3.nc')\n",
    "if not testfile.exists():\n",
    "    prcpurl = 'https://thredds.daac.ornl.gov/thredds/ncss/daymet-v3-agg/na.ncml'\n",
    "    prcppayload = {\n",
    "    #     'var': 'lat&var=lon&var=tmax',\n",
    "        'var': 'lat&var=lon&var=prcp&var=srad&var=swe&var=tmax&var=tmin&var=vp',\n",
    "        'north': '54',\n",
    "        'west': '-126',\n",
    "        'east': '-65',\n",
    "        'south': '20',\n",
    "        'disableProjSubset': 'on',\n",
    "        'horizStride': '1',\n",
    "        'time_start': '2018-12-31T12:00:00Z',\n",
    "        'time_end': '2018-12-31T12:00:00Z',\n",
    "        'timeStride': '1',\n",
    "        'accept': 'netcdf'}    \n",
    "    try:\n",
    "        s = requests.Session()\n",
    "        #https://github.com/psf/requests/issues/1454\n",
    "        qry = urlencode(prcppayload).replace('%26','&')\n",
    "        qry = qry.replace('%3D', '=')\n",
    "        print(qry)\n",
    "        tmaxfile = requests.get(prcpurl, params=qry)\n",
    "        tmaxfile.raise_for_status()\n",
    "    except HTTPError as http_err:\n",
    "        print(f'HTTP error occured: {http_err}')\n",
    "    except Exception as err:\n",
    "        print(f'Other error occured: {err}')\n",
    "    else:\n",
    "        print('Daymet data retrieved!')\n",
    "\n",
    "    with open('tmax_test3.nc', 'wb') as fh:\n",
    "        fh.write(tmaxfile.content)\n",
    "    fh.close    \n",
    "\n",
    "#=========================================================\n",
    "#            MACAV2METDATA FILE PARAMETERS\n",
    "#=========================================================\n",
    "# dirPath='https://thredds.daac.ornl.gov/thredds/ncss/ornldaac/1328/2018/daymet_v3_prcp_2018_na.nc4?var=lat&var=lon&var=prcp&north=52.880049298000074+&west=-124.72462483099997+&east=-66.94953853699997+&south=24.839424370000074&disableLLSubset=on&disableProjSubset=on&horizStride=1&time_start=2018-12-31T00:00:00Z&time_end=2018-12-31T00:00:00Z&timeStride=1&accept=netcdf'\n",
    "# fileName='/thredds/dodsC/MET/tmmx/tmmx_2019.nc'\n",
    "# dirPath = 'tmax_test2.nc'\n",
    "# dirPath = 'daymet_v3_tmax_2018_na.nc4.nc'\n",
    "#--------------------------------------------------------\n",
    "#   FORM FILENAME AND GET HANDLE TO FILE AND DATA\n",
    "#--------------------------------------------------------\n",
    "# fullfilename= dirPath\n",
    "# print(fullfilename)\n",
    "\n",
    "ds = xr.open_dataset(testfile)\n",
    "\n",
    "print(ds)\n",
    "\n",
    "# df = ds.to_dataframe()\n",
    "\n",
    "print('\\n The meta data is: \\n', ds.attrs)\n",
    "lathandle=ds['lat']\n",
    "lonhandle=ds['lon']\n",
    "timehandle=ds['time']\n",
    "datahandle=ds['tmax']\n",
    "dhlat = ds['lat']\n",
    "dhlon = ds['lon']\n",
    "crshandle=ds['lambert_conformal_conic']\n",
    "print('\\n The crs meta data is \\n', crshandle.attrs)\n",
    "print(datahandle)\n",
    "\n",
    "\n",
    "#collect data to describe geotransform\n",
    "lonmin = float(ds.attrs['geospatial_lon_min'])\n",
    "latmax = float(ds.attrs['geospatial_lat_max'])\n",
    "\n",
    "#Print some information on the data\n",
    "\n",
    "print('\\n Data attributes, sizes, and coords \\n') \n",
    "print('\\n Data attributes are: \\n',datahandle.attrs)\n",
    "print('\\n Data sizes are: \\n', datahandle.sizes)\n",
    "print('\\n Data coords are: \\n', datahandle.coords)\n",
    "print('\\n Lat coords are: \\n', dhlat.attrs)\n",
    "\n",
    "ts = datahandle.sizes\n",
    "print(type(ts))\n",
    "print(ts['time'])\n",
    "dayshape = ts['time']\n",
    "Lonshape = ts['x']\n",
    "Latshape = ts['y']\n",
    "#dayshape,lonshape,latshape = datahandle.values.shape\n",
    "print(dayshape, Lonshape, Latshape)\n"
   ]
  },
  {
   "cell_type": "code",
   "execution_count": 4,
   "metadata": {},
   "outputs": [
    {
     "data": {
      "text/plain": [
       "22223592"
      ]
     },
     "execution_count": 4,
     "metadata": {},
     "output_type": "execute_result"
    }
   ],
   "source": [
    "lon = ds.lon.values\n",
    "numcells = np.shape(lon)[0]*np.shape(lon)[1]\n",
    "numcells"
   ]
  },
  {
   "cell_type": "code",
   "execution_count": 5,
   "metadata": {},
   "outputs": [
    {
     "data": {
      "text/plain": [
       "<matplotlib.collections.QuadMesh at 0x7f6f39d28850>"
      ]
     },
     "execution_count": 12,
     "metadata": {},
     "output_type": "execute_result"
    },
    {
     "data": {
      "image/png": "[encoded data removed]",
      "text/plain": [
       "<Figure size 432x288 with 2 Axes>"
      ]
     },
     "metadata": {
      "needs_background": "light"
     },
     "output_type": "display_data"
    }
   ],
   "source": [
    "ds.tmax.plot()"
   ]
  },
  {
   "cell_type": "code",
   "execution_count": 10,
   "metadata": {},
   "outputs": [
    {
     "data": {
      "image/png": "[encoded data removed]",
      "text/plain": [
       "<Figure size 432x288 with 2 Axes>"
      ]
     },
     "metadata": {
      "needs_background": "light"
     },
     "output_type": "display_data"
    }
   ],
   "source": [
    "# tmax = ds.tmax.isel(time=[0])\n",
    "tmax = ds.tmax\n",
    "# p = tmax.plot(col = 'time', aspect = ds.dims['x']/ds.dims['y'], size = 2)\n",
    "p = tmax.plot()\n",
    "p.axes.set_aspect('equal')\n",
    "plt.show()"
   ]
  },
  {
   "cell_type": "code",
   "execution_count": null,
   "metadata": {},
   "outputs": [],
   "source": [
    "# wght_UofI = pd.read_csv('../pkg/tmp_weights_hru_v1_1.csv')\n",
    "# print(wght_UofI.head())\n",
    "\n",
    "# #iterate through hru's, grab all weights associated with hru_id, get total weighted value from netcdf file, assign to tmax\n",
    "# ndata = datahandle.values[dayshape-1,:,:].flatten(order='K')\n",
    "\n",
    "# print(ndata[1000:])\n",
    "\n",
    "# unique_hru_ids = wght_UofI.groupby('GFv11_id')\n",
    "# print(len(gdf), len(unique_hru_ids))"
   ]
  },
  {
   "cell_type": "code",
   "execution_count": null,
   "metadata": {},
   "outputs": [],
   "source": [
    "# print(gdf.iloc[0]['GFv11_id'] in unique_hru_ids)"
   ]
  },
  {
   "cell_type": "code",
   "execution_count": null,
   "metadata": {},
   "outputs": [],
   "source": [
    "# # read hru nhm_id that have no intersections\n",
    "# hru_nointsct = pd.read_csv(r'../Data_v1_1/gridmet_hru_v1_1_nointsct.txt')\n",
    "# hru_nointsct.head()\n",
    "# noint = hru_nointsct.hru_nointsct.unique()\n",
    "# print(type(noint))"
   ]
  },
  {
   "cell_type": "code",
   "execution_count": null,
   "metadata": {},
   "outputs": [],
   "source": [
    "from numpy.ma import masked\n",
    "# add tmax column to dataframe\n",
    "gdf['tmax']=0.0\n",
    "# gdf.tmax[noint] = 10.0\n",
    "# print(gdf.tmax[noint])\n",
    "\n",
    "wght_UofI = pd.read_csv('../../Data_v1_1/tmp_daymet_weights_hru_v1_1e.csv')\n",
    "print(wght_UofI.head())\n",
    "wghts_id = wght_UofI.columns[1]\n",
    "print('wghts_id', wghts_id)\n",
    "#iterate through hru's, grab all weights associated with hru_id, get total weighted value from netcdf file, assign to tmax\n",
    "# ndata = datahandle.values[dayshape-1,:,:].flatten(order='C')\n",
    "# ndata = ds.tmax.values[dayshape-1,:,:].flatten()\n",
    "lon = ds.lon.values\n",
    "lat = ds.lat.values\n",
    "ndata = np.zeros(np.shape(lon)[1]*np.shape(lon)[0])\n",
    "tlc = 0\n",
    "for i in range(1, np.shape(lon)[0] - 1):\n",
    "    if i % 100 == 0: print(i, flush=True)\n",
    "    for j in range(1, np.shape(lon)[1] - 1):\n",
    "        ndata[tlc] = datahandle.values[dayshape-1,i,j]\n",
    "        tlc+=1\n",
    "\n",
    "# print(ndata[1000:])\n",
    "\n",
    "unique_hru_ids = wght_UofI.groupby(wghts_id)\n",
    "print(len(gdf), len(unique_hru_ids))\n",
    "\n",
    "def np_get_wval2(grp, ndata):\n",
    "    mdata = np.ma.masked_array(ndata[grp['grid_ids'].values.astype(int)], np.isnan(ndata[grp['grid_ids'].values.astype(int)]))\n",
    "    return np.ma.average(mdata, weights=grp['w'])\n",
    "def np_get_wval(ndata, wghts, hru_id):\n",
    "    \"\"\"\n",
    "    Returns weighted average of ndata with weights = grp\n",
    "    1) mdata = the subset of values associated with the gridmet id's that are mapped to hru_id.\n",
    "    2) Some of these values may have nans if the gridmet id is outside of conus so only return values\n",
    "    that are inside of conus\n",
    "    3) this means that hru's that are entirely outside of conus will return nans which will ultimately,\n",
    "    outside of this function get assigned zero's.\n",
    "    4) the value is assigned the weighted average\n",
    "    :param ndata: float array of data values\n",
    "    :param wghts: float array of weights\n",
    "    :param hru_id hru id number\n",
    "    :return: numpy weighted averaged - masked to deal with nans associated with\n",
    "            ndata that is outside of the conus.\n",
    "    \"\"\"\n",
    "    mdata = np.ma.masked_array(ndata[wghts['grid_ids'].values.astype(int)],\n",
    "                               np.isnan(ndata[wghts['grid_ids'].values.astype(int)]))\n",
    "\n",
    "    # mdata = np.ma.masked_where(ndata[wghts['grid_ids'].values.astype(int)] <= 0.0,\n",
    "    #                            (ndata[wghts['grid_ids'].values.astype(int)]))\n",
    "    tmp = np.ma.average(mdata, weights=wghts['w'])\n",
    "    if tmp is masked:\n",
    "        # print('returning masked value', hru_id, mdata, wghts['w'])\n",
    "        return np.nan\n",
    "\n",
    "    else:\n",
    "        return tmp\n",
    "    \n",
    "# unique_hru_ids.get_group(gdf['hru_id_nat']).agg({'tmax': np_get_wval(weight_id_rows, ndata)})    \n",
    "td = np.zeros(len(gdf.index))\n",
    "for index, row in gdf.iterrows():\n",
    "#     if not(row['nhm_id'] in noint):\n",
    "    try: \n",
    "        weight_id_rows = unique_hru_ids.get_group(row[wghts_id])\n",
    "        td[index] = np.nan_to_num(np_get_wval(ndata, weight_id_rows, index+1))\n",
    "    except KeyError:\n",
    "        td[index] = 0.0\n",
    "            \n",
    "            \n",
    "#         gdf['tmax'][index] = np_get_wval2(weight_id_rows, ndata)\n",
    "#     else:\n",
    "#         td[index] = 10.0\n",
    "\n",
    "gdf['tmax'] = td.tolist()\n",
    "# gdf['tmax'].fillna(0.0)\n",
    "\n",
    "print('min/max', gdf['tmax'].min(), gdf['tmax'].max())\n",
    "\n",
    "# f, ax = plt.subplots(2, figsize=(12,12))\n",
    "# gdf.plot(ax=ax[0], column = 'tmax',linewidth=0., edgecolor='white')\n",
    "# ax[0].set_aspect('equal')\n",
    "# ptmax = ds.tmax\n",
    "# ptmax_1 = ptmax.isel(time=dayshape-1)\n",
    "# lvs = np.arange(gdf['tmax'].min(), gdf['tmax'].max(), 0.5)\n",
    "# ptmax_1.plot(ax=ax[1], levels=lvs, cmap='viridis')"
   ]
  },
  {
   "cell_type": "code",
   "execution_count": null,
   "metadata": {},
   "outputs": [],
   "source": [
    "f, ax = plt.subplots(2, 1)\n",
    "\n",
    "lvs = np.arange(gdf['tmax'].min(), gdf['tmax'].max(), 0.5)\n",
    "\n",
    "ptmax = ds.tmax\n",
    "ptmax_1 = ptmax.isel(time=dayshape-1)\n",
    "p=ptmax_1.plot(ax=ax[0], levels=lvs, cmap='viridis')\n",
    "ax[0].set_aspect('equal', 'box')\n",
    "\n",
    "g = gdf.plot(ax=ax[1], column = 'tmax',linewidth=0., edgecolor='white', legend=True)\n",
    "# temp = ds.daily_maximum_temperature[0,:,:]-273.5\n",
    "ax[1].set_aspect('equal', 'box')\n",
    "\n",
    "\n",
    "plt.tight_layout()\n",
    "plt.show()"
   ]
  },
  {
   "cell_type": "markdown",
   "metadata": {},
   "source": [
    "##### lon = ds.lon.values\n",
    "lat = ds.lat.values\n",
    "print(np.shape(lon))"
   ]
  },
  {
   "cell_type": "code",
   "execution_count": null,
   "metadata": {},
   "outputs": [],
   "source": [
    "wght_UofI.head()"
   ]
  },
  {
   "cell_type": "code",
   "execution_count": null,
   "metadata": {},
   "outputs": [],
   "source": [
    "wght_sum = wght_UofI.groupby(wghts_id).sum()\n",
    "print(type(wght_sum))\n",
    "wght_sum.head()"
   ]
  },
  {
   "cell_type": "code",
   "execution_count": null,
   "metadata": {},
   "outputs": [],
   "source": [
    "print(wght_sum.head(100))\n",
    "wght_sum['w'][10000]\n",
    "wght_sum.w.plot()\n",
    "ax = plt.gca()\n",
    "ax.ticklabel_format(useOffset=False)\n",
    "# print(wght_UofI.loc[wght_UofI['GFv11_id'] == 5])\n",
    "# tid = 5\n",
    "# hid = gdf.loc[gdf['GFv11_id']==tid].geometry.area.sum()\n",
    "# print(hid)"
   ]
  },
  {
   "cell_type": "code",
   "execution_count": null,
   "metadata": {},
   "outputs": [],
   "source": []
  },
  {
   "cell_type": "code",
   "execution_count": null,
   "metadata": {},
   "outputs": [],
   "source": [
    "gdf_id = gdf.groupby('GFv11_id', sort = False)\n"
   ]
  },
  {
   "cell_type": "code",
   "execution_count": null,
   "metadata": {},
   "outputs": [],
   "source": [
    "# print(gdf_id)\n",
    "for index, row in gdf_id:\n",
    "#     print(' ')\n",
    "    if index < 6:\n",
    "        print(len(row))\n",
    "        for geo in row.geometry:\n",
    "            print(index, row['GFv11_id'].values, geo.area, geo.bounds)\n",
    "#             print(geo)\n",
    "#         print(row['GFv11_id'], gdf_id.loc[gdf_id['GFv11_id']==row['GFv11_id']].geometry.area.sum())"
   ]
  },
  {
   "cell_type": "code",
   "execution_count": null,
   "metadata": {},
   "outputs": [],
   "source": [
    "count = 0\n",
    "for index, row in gdf.iterrows():\n",
    "    if count < 5:\n",
    "        print(gdf.loc[[index]])"
   ]
  },
  {
   "cell_type": "code",
   "execution_count": null,
   "metadata": {},
   "outputs": [],
   "source": []
  }
 ],
 "metadata": {
  "kernelspec": {
   "display_name": "Python 3",
   "language": "python",
   "name": "python3"
  },
  "language_info": {
   "codemirror_mode": {
    "name": "ipython",
    "version": 3
   },
   "file_extension": ".py",
   "mimetype": "text/x-python",
   "name": "python",
   "nbconvert_exporter": "python",
   "pygments_lexer": "ipython3",
   "version": "3.7.6"
  }
 },
 "nbformat": 4,
 "nbformat_minor": 4
}
